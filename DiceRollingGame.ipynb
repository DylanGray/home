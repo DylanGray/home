{
 "cells": [
  {
   "cell_type": "markdown",
   "metadata": {},
   "source": [
    "### Dice Rolling Game\n",
    "\n",
    "goodq:\n",
    "How to export and be installable?"
   ]
  },
  {
   "cell_type": "code",
   "execution_count": 5,
   "metadata": {},
   "outputs": [
    {
     "name": "stdout",
     "output_type": "stream",
     "text": [
      "Settings loaded.\n",
      "Enter maximum value of dice: \n"
     ]
    },
    {
     "name": "stdin",
     "output_type": "stream",
     "text": [
      " 12\n"
     ]
    },
    {
     "name": "stdout",
     "output_type": "stream",
     "text": [
      "About to roll a d12!\n",
      "What is your guess?\n"
     ]
    },
    {
     "name": "stdin",
     "output_type": "stream",
     "text": [
      " 11\n"
     ]
    },
    {
     "name": "stdout",
     "output_type": "stream",
     "text": [
      "You guessed 11 and the results was 5!\n",
      "Better luck next time.\n",
      "Do you want to roll again? Y/N\n"
     ]
    },
    {
     "name": "stdin",
     "output_type": "stream",
     "text": [
      " Y\n"
     ]
    },
    {
     "name": "stdout",
     "output_type": "stream",
     "text": [
      "About to roll a d12!\n",
      "What is your guess?\n"
     ]
    },
    {
     "name": "stdin",
     "output_type": "stream",
     "text": [
      " 3\n"
     ]
    },
    {
     "name": "stdout",
     "output_type": "stream",
     "text": [
      "You guessed 3 and the results was 1!\n",
      "Better luck next time.\n",
      "Do you want to roll again? Y/N\n"
     ]
    },
    {
     "name": "stdin",
     "output_type": "stream",
     "text": [
      " Y\n"
     ]
    },
    {
     "name": "stdout",
     "output_type": "stream",
     "text": [
      "About to roll a d12!\n",
      "What is your guess?\n"
     ]
    },
    {
     "name": "stdin",
     "output_type": "stream",
     "text": [
      " 2\n"
     ]
    },
    {
     "name": "stdout",
     "output_type": "stream",
     "text": [
      "You guessed 2 and the results was 11!\n",
      "Better luck next time.\n",
      "Do you want to roll again? Y/N\n"
     ]
    },
    {
     "name": "stdin",
     "output_type": "stream",
     "text": [
      " Y\n"
     ]
    },
    {
     "name": "stdout",
     "output_type": "stream",
     "text": [
      "About to roll a d12!\n",
      "What is your guess?\n"
     ]
    },
    {
     "name": "stdin",
     "output_type": "stream",
     "text": [
      " 2\n"
     ]
    },
    {
     "name": "stdout",
     "output_type": "stream",
     "text": [
      "You guessed 2 and the results was 7!\n",
      "Better luck next time.\n",
      "Do you want to roll again? Y/N\n"
     ]
    },
    {
     "name": "stdin",
     "output_type": "stream",
     "text": [
      " Y\n"
     ]
    },
    {
     "name": "stdout",
     "output_type": "stream",
     "text": [
      "About to roll a d12!\n",
      "What is your guess?\n"
     ]
    },
    {
     "name": "stdin",
     "output_type": "stream",
     "text": [
      " 2\n"
     ]
    },
    {
     "name": "stdout",
     "output_type": "stream",
     "text": [
      "You guessed 2 and the results was 10!\n",
      "Better luck next time.\n",
      "Do you want to roll again? Y/N\n"
     ]
    },
    {
     "name": "stdin",
     "output_type": "stream",
     "text": [
      " N\n"
     ]
    },
    {
     "name": "stdout",
     "output_type": "stream",
     "text": [
      "Thanks for playing!\n"
     ]
    }
   ],
   "source": [
    "# import required packages\n",
    "import numpy as np\n",
    "import random as rnd\n",
    "import matplotlib\n",
    "import matplotlib.pyplot as plt\n",
    "\n",
    "print('Settings loaded.')\n",
    "\n",
    "\n",
    "#initial settings \n",
    "print('Enter maximum value of dice: ')\n",
    "d = input()\n",
    "D = int(d)\n",
    "again = 'Y'\n",
    "\n",
    "#define the dice roller\n",
    "def dice_roll(): \n",
    "    print('About to roll a d'+d+'!')\n",
    "    r = np.arange(1,D)\n",
    "    roll = rnd.choice(r)\n",
    "    ROLL = str(roll)\n",
    "    print('What is your guess?')\n",
    "    g = input() \n",
    "    G = int(g)\n",
    "    print('You guessed '+g+' and the results was '+ROLL+'!')\n",
    "    if  G == roll:\n",
    "        print('You were correct!')\n",
    "    else: \n",
    "        print('Better luck next time.')\n",
    "    print('Do you want to roll again? Y/N')\n",
    "    again = input()\n",
    "    return cont_chk(again)\n",
    "\n",
    "\n",
    "#End game check settings \n",
    "def cont_chk(a):\n",
    "    if a == 'Y':\n",
    "        dice_roll()\n",
    "    else:\n",
    "        print('Thanks for playing!')\n",
    "    return\n",
    "\n",
    "cont_chk(again)\n",
    "\n",
    "# And thats the game!\n",
    "# Could probably try to code it more effieciently for fun and practive, but there are other interesting things to do."
   ]
  },
  {
   "cell_type": "code",
   "execution_count": 4,
   "metadata": {},
   "outputs": [],
   "source": [
    "### empty space "
   ]
  }
 ],
 "metadata": {
  "kernelspec": {
   "display_name": "Python 3",
   "language": "python",
   "name": "python3"
  },
  "language_info": {
   "codemirror_mode": {
    "name": "ipython",
    "version": 3
   },
   "file_extension": ".py",
   "mimetype": "text/x-python",
   "name": "python",
   "nbconvert_exporter": "python",
   "pygments_lexer": "ipython3",
   "version": "3.7.6"
  }
 },
 "nbformat": 4,
 "nbformat_minor": 4
}
